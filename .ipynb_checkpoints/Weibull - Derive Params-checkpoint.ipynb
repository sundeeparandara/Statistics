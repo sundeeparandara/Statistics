{
 "cells": [
  {
   "cell_type": "code",
   "execution_count": 1,
   "id": "d56aad26",
   "metadata": {},
   "outputs": [],
   "source": [
    "import numpy as np\n",
    "import matplotlib.pyplot as plt\n",
    "import seaborn as sns\n",
    "from sklearn.linear_model import LinearRegression\n",
    "from sklearn.metrics import r2_score"
   ]
  },
  {
   "cell_type": "code",
   "execution_count": 2,
   "id": "0fb44cb1",
   "metadata": {
    "scrolled": true
   },
   "outputs": [
    {
     "name": "stdout",
     "output_type": "stream",
     "text": [
      "[ 47  50  76  53  91  15  85 105]\n"
     ]
    }
   ],
   "source": [
    "samples_1 = np.array([47,50,76,53,91,15,85,105])\n",
    "print(samples_1)"
   ]
  },
  {
   "cell_type": "code",
   "execution_count": 3,
   "id": "693dd244",
   "metadata": {},
   "outputs": [
    {
     "name": "stdout",
     "output_type": "stream",
     "text": [
      "[ 47  50  76  53  91  15  85 105  22  16  54  91  90  57  52  23  48  69\n",
      "  90  44]\n"
     ]
    }
   ],
   "source": [
    "samples_2 = np.array([47,50,76,53,91,15,85,105,22,16,54,91,90,57,52,23,48,69,90,44])\n",
    "print(samples_2)"
   ]
  },
  {
   "cell_type": "markdown",
   "id": "cda14a9d",
   "metadata": {},
   "source": [
    "### Average"
   ]
  },
  {
   "cell_type": "code",
   "execution_count": 4,
   "id": "c6a4d311",
   "metadata": {},
   "outputs": [
    {
     "data": {
      "text/plain": [
       "65.25"
      ]
     },
     "execution_count": 4,
     "metadata": {},
     "output_type": "execute_result"
    }
   ],
   "source": [
    "np.mean(samples_1)"
   ]
  },
  {
   "cell_type": "markdown",
   "id": "5e820fe1",
   "metadata": {},
   "source": [
    "### Standard Deviation (if we had a normal distribution)"
   ]
  },
  {
   "cell_type": "code",
   "execution_count": 5,
   "id": "9804cc57",
   "metadata": {},
   "outputs": [
    {
     "data": {
      "text/plain": [
       "27.36215452043205"
      ]
     },
     "execution_count": 5,
     "metadata": {},
     "output_type": "execute_result"
    }
   ],
   "source": [
    "np.std(samples_1)"
   ]
  },
  {
   "cell_type": "markdown",
   "id": "13b3391c",
   "metadata": {},
   "source": [
    "# Weibull"
   ]
  },
  {
   "cell_type": "markdown",
   "id": "f1075870",
   "metadata": {},
   "source": [
    "![weibull](weibull_modulus.png)"
   ]
  },
  {
   "cell_type": "markdown",
   "id": "f1334a28",
   "metadata": {},
   "source": [
    "Tune-able varibles:\n",
    "\n",
    "sigma_0 --> scaling parameter --> characteristic strength\n",
    "\n",
    "m --> Weibull Modulus\n",
    "\n",
    "(helps fit a lot of datasets)\n",
    "\n",
    "\n",
    "high m --> narrow distribution\n",
    "\n",
    "\n",
    "**typically need 20 samples**"
   ]
  },
  {
   "cell_type": "code",
   "execution_count": 6,
   "id": "4bf948f9",
   "metadata": {},
   "outputs": [
    {
     "name": "stdout",
     "output_type": "stream",
     "text": [
      "[ 15  16  22  23  44  47  48  50  52  53  54  57  69  76  85  90  90  91\n",
      "  91 105]\n"
     ]
    }
   ],
   "source": [
    "samples_2_sorted = np.sort(samples_2)\n",
    "print(samples_2_sorted)"
   ]
  },
  {
   "cell_type": "code",
   "execution_count": 7,
   "id": "3d7f4ede",
   "metadata": {},
   "outputs": [
    {
     "name": "stdout",
     "output_type": "stream",
     "text": [
      "[ 1  2  3  4  5  6  7  8  9 10 11 12 13 14 15 16 17 18 19 20]\n"
     ]
    }
   ],
   "source": [
    "samples_2_rank = np.arange(1,len(samples_2_sorted)+1)\n",
    "print(samples_2_rank)"
   ]
  },
  {
   "cell_type": "code",
   "execution_count": 8,
   "id": "86dc40c2",
   "metadata": {},
   "outputs": [
    {
     "name": "stdout",
     "output_type": "stream",
     "text": [
      "[0.025 0.075 0.125 0.175 0.225 0.275 0.325 0.375 0.425 0.475 0.525 0.575\n",
      " 0.625 0.675 0.725 0.775 0.825 0.875 0.925 0.975]\n"
     ]
    }
   ],
   "source": [
    "#failure rate (i.e. if you were to stretch the rubber band to 15 mm, what is the chance of failure?)\n",
    "F = (samples_2_rank-0.5)/len(samples_2_rank)\n",
    "print(F)"
   ]
  },
  {
   "cell_type": "markdown",
   "id": "51dd7867",
   "metadata": {},
   "source": [
    "![weibull_linear](weibull_linear.png)"
   ]
  },
  {
   "cell_type": "markdown",
   "id": "9aa8b596",
   "metadata": {},
   "source": [
    "How to do ln in numpy? https://stackoverflow.com/questions/10593100/how-do-you-do-natural-logs-e-g-ln-with-numpy-in-python"
   ]
  },
  {
   "cell_type": "code",
   "execution_count": 9,
   "id": "79b79d71",
   "metadata": {},
   "outputs": [
    {
     "name": "stdout",
     "output_type": "stream",
     "text": [
      "[-3.67624726 -2.55153963 -2.01341868 -1.64832484 -1.36691437 -1.13449766\n",
      " -0.93383731 -0.75501486 -0.59170089 -0.43950233 -0.29512238 -0.15587504\n",
      " -0.01935689  0.11683156  0.25540486  0.39988616  0.55559016  0.73209937\n",
      "  0.95176102  1.30532274]\n"
     ]
    }
   ],
   "source": [
    "y = np.log(np.log(1/(1-F)))\n",
    "print(y)"
   ]
  },
  {
   "cell_type": "markdown",
   "id": "4b18eb57",
   "metadata": {},
   "source": [
    "equation says sigma_f, failure stress, but it can be anything related to the problem, which in this case is length at failure"
   ]
  },
  {
   "cell_type": "code",
   "execution_count": 10,
   "id": "d8323d85",
   "metadata": {},
   "outputs": [
    {
     "name": "stdout",
     "output_type": "stream",
     "text": [
      "[2.7080502  2.77258872 3.09104245 3.13549422 3.78418963 3.8501476\n",
      " 3.87120101 3.91202301 3.95124372 3.97029191 3.98898405 4.04305127\n",
      " 4.2341065  4.33073334 4.44265126 4.49980967 4.49980967 4.51085951\n",
      " 4.51085951 4.65396035]\n"
     ]
    }
   ],
   "source": [
    "x = np.log(samples_2_sorted)\n",
    "print(x)"
   ]
  },
  {
   "cell_type": "code",
   "execution_count": 11,
   "id": "5c06ae6b",
   "metadata": {},
   "outputs": [
    {
     "data": {
      "text/plain": [
       "<AxesSubplot:xlabel='ln_sigma_f', ylabel='ln_ln_1_1-f'>"
      ]
     },
     "execution_count": 11,
     "metadata": {},
     "output_type": "execute_result"
    },
    {
     "data": {
      "image/png": "[encoded data removed]",
      "text/plain": [
       "<Figure size 432x288 with 1 Axes>"
      ]
     },
     "metadata": {
      "needs_background": "light"
     },
     "output_type": "display_data"
    }
   ],
   "source": [
    "fig, ax = plt.subplots()\n",
    "ax.set(xlabel=\"ln_sigma_f\",ylabel=\"ln_ln_1_1-f\")\n",
    "sns.scatterplot(x=x,y=y,ax=ax)"
   ]
  },
  {
   "cell_type": "code",
   "execution_count": 12,
   "id": "28a45f4e",
   "metadata": {},
   "outputs": [],
   "source": [
    "linear_model = LinearRegression()"
   ]
  },
  {
   "cell_type": "code",
   "execution_count": 13,
   "id": "5ec15468",
   "metadata": {},
   "outputs": [
    {
     "data": {
      "text/plain": [
       "LinearRegression()"
      ]
     },
     "execution_count": 13,
     "metadata": {},
     "output_type": "execute_result"
    }
   ],
   "source": [
    "linear_model.fit(x.reshape(-1,1),y.reshape(-1,1))"
   ]
  },
  {
   "cell_type": "code",
   "execution_count": 14,
   "id": "5faf8e64",
   "metadata": {},
   "outputs": [],
   "source": [
    "y_pred = linear_model.predict(x.reshape(-1,1))"
   ]
  },
  {
   "cell_type": "code",
   "execution_count": 15,
   "id": "2fcf6d75",
   "metadata": {},
   "outputs": [
    {
     "data": {
      "text/plain": [
       "0.9375588791962423"
      ]
     },
     "execution_count": 15,
     "metadata": {},
     "output_type": "execute_result"
    }
   ],
   "source": [
    "r2_score(y,y_pred)"
   ]
  },
  {
   "cell_type": "code",
   "execution_count": 16,
   "id": "f4452547",
   "metadata": {
    "scrolled": true
   },
   "outputs": [
    {
     "data": {
      "text/plain": [
       "<AxesSubplot:xlabel='ln_sigma_f', ylabel='ln_ln_1_1-f'>"
      ]
     },
     "execution_count": 16,
     "metadata": {},
     "output_type": "execute_result"
    },
    {
     "data": {
      "image/png": "[encoded data removed]",
      "text/plain": [
       "<Figure size 432x288 with 1 Axes>"
      ]
     },
     "metadata": {
      "needs_background": "light"
     },
     "output_type": "display_data"
    }
   ],
   "source": [
    "fig, ax = plt.subplots()\n",
    "ax.set(xlabel=\"ln_sigma_f\",ylabel=\"ln_ln_1_1-f\")\n",
    "sns.scatterplot(x=x,y=y,ax=ax)\n",
    "sns.lineplot(x=x,y=y_pred.flatten(),ax=ax,color=\"red\")"
   ]
  },
  {
   "cell_type": "markdown",
   "id": "bf882bff",
   "metadata": {},
   "source": [
    "#### Weibull modulus m:"
   ]
  },
  {
   "cell_type": "code",
   "execution_count": 17,
   "id": "c39c3b90",
   "metadata": {},
   "outputs": [
    {
     "name": "stdout",
     "output_type": "stream",
     "text": [
      "2.0465650628661436\n"
     ]
    }
   ],
   "source": [
    "#Weibull modulus for this material is m\n",
    "m = linear_model.coef_[0][0]\n",
    "print(m)"
   ]
  },
  {
   "cell_type": "markdown",
   "id": "de1404a7",
   "metadata": {},
   "source": [
    "intercept b:"
   ]
  },
  {
   "cell_type": "code",
   "execution_count": 18,
   "id": "0f6190fd",
   "metadata": {},
   "outputs": [
    {
     "name": "stdout",
     "output_type": "stream",
     "text": [
      "-8.62270834657528\n"
     ]
    }
   ],
   "source": [
    "b =  linear_model.predict([[0]])[0][0]\n",
    "print(b)"
   ]
  },
  {
   "cell_type": "markdown",
   "id": "a5678e84",
   "metadata": {},
   "source": [
    "If you required failure rate is 1 in a million, then F = 1 / 1e6"
   ]
  },
  {
   "cell_type": "code",
   "execution_count": 19,
   "id": "ee87d561",
   "metadata": {},
   "outputs": [
    {
     "name": "stdout",
     "output_type": "stream",
     "text": [
      "1e-06\n"
     ]
    }
   ],
   "source": [
    "F_req = 1/1e6\n",
    "print(F_req)"
   ]
  },
  {
   "cell_type": "code",
   "execution_count": 20,
   "id": "03e681bf",
   "metadata": {},
   "outputs": [
    {
     "name": "stdout",
     "output_type": "stream",
     "text": [
      "-13.815510057958432\n"
     ]
    }
   ],
   "source": [
    "y_req = np.log(np.log(1/(1-F_req)))\n",
    "print(y_req)"
   ]
  },
  {
   "cell_type": "code",
   "execution_count": 21,
   "id": "e2527203",
   "metadata": {},
   "outputs": [
    {
     "data": {
      "text/plain": [
       "2.0465650628661436"
      ]
     },
     "execution_count": 21,
     "metadata": {},
     "output_type": "execute_result"
    }
   ],
   "source": [
    "m"
   ]
  },
  {
   "cell_type": "code",
   "execution_count": 22,
   "id": "3d056b6d",
   "metadata": {},
   "outputs": [
    {
     "data": {
      "text/plain": [
       "-8.62270834657528"
      ]
     },
     "execution_count": 22,
     "metadata": {},
     "output_type": "execute_result"
    }
   ],
   "source": [
    "b"
   ]
  },
  {
   "cell_type": "code",
   "execution_count": 23,
   "id": "5596c2c2",
   "metadata": {},
   "outputs": [
    {
     "name": "stdout",
     "output_type": "stream",
     "text": [
      "-2.5373254950960678\n"
     ]
    }
   ],
   "source": [
    "ln_sigma_f = (y_req - b)/m ##remember sigma_f here is actual the ln of length, not ln of failure stress\n",
    "print(ln_sigma_f)"
   ]
  },
  {
   "cell_type": "code",
   "execution_count": 24,
   "id": "11da8937",
   "metadata": {},
   "outputs": [
    {
     "data": {
      "text/plain": [
       "0.07907761068005142"
      ]
     },
     "execution_count": 24,
     "metadata": {},
     "output_type": "execute_result"
    }
   ],
   "source": [
    "np.exp(ln_sigma_f)"
   ]
  },
  {
   "cell_type": "code",
   "execution_count": 25,
   "id": "dcd0a3f9",
   "metadata": {},
   "outputs": [],
   "source": [
    "def derive_weibull_params(samples):\n",
    "    samples_sorted = np.sort(samples)\n",
    "    samples_rank = np.arange(1,len(samples_sorted)+1)\n",
    "    F = (samples_rank-0.5)/len(samples_rank)\n",
    "    y = np.log(np.log(1/(1-F)))\n",
    "    x = np.log(samples_sorted)\n",
    "    linear_model = LinearRegression()\n",
    "    linear_model.fit(x.reshape(-1,1),y.reshape(-1,1))\n",
    "    y_pred = linear_model.predict(x.reshape(-1,1))\n",
    "    r2 = r2_score(y,y_pred)\n",
    "    m = linear_model.coef_[0][0]\n",
    "    b = linear_model.predict([[0]])[0][0]\n",
    "    \n",
    "    fig, ax = plt.subplots()\n",
    "    ax.set(xlabel=\"ln_sigma_f\",ylabel=\"ln_ln_1_1-f\")\n",
    "    sns.scatterplot(x=x,y=y,ax=ax)\n",
    "    sns.lineplot(x=x,y=y_pred.flatten(),ax=ax,color=\"red\")\n",
    "    \n",
    "    print(f\"Weibull modulus = {m}\")\n",
    "    print(f\"Intercept = {b}\")\n",
    "    print(f\"R^2 = {r2}\")\n",
    "    \n",
    "    return({\"m\":m,\"b\":b,\"r2\":r2})"
   ]
  },
  {
   "cell_type": "code",
   "execution_count": 26,
   "id": "6ff2b18e",
   "metadata": {},
   "outputs": [],
   "source": [
    "samples_test = samples_2"
   ]
  },
  {
   "cell_type": "code",
   "execution_count": 27,
   "id": "d77d8dcd",
   "metadata": {},
   "outputs": [
    {
     "name": "stdout",
     "output_type": "stream",
     "text": [
      "Weibull modulus = 2.0465650628661436\n",
      "Intercept = -8.62270834657528\n",
      "R^2 = 0.9375588791962423\n"
     ]
    },
    {
     "data": {
      "image/png": "[encoded data removed]",
      "text/plain": [
       "<Figure size 432x288 with 1 Axes>"
      ]
     },
     "metadata": {
      "needs_background": "light"
     },
     "output_type": "display_data"
    }
   ],
   "source": [
    "weibull_params_sample_test = derive_weibull_params(samples_test)"
   ]
  },
  {
   "cell_type": "code",
   "execution_count": null,
   "id": "9649b955",
   "metadata": {},
   "outputs": [],
   "source": []
  }
 ],
 "metadata": {
  "kernelspec": {
   "display_name": "Python 3",
   "language": "python",
   "name": "python3"
  },
  "language_info": {
   "codemirror_mode": {
    "name": "ipython",
    "version": 3
   },
   "file_extension": ".py",
   "mimetype": "text/x-python",
   "name": "python",
   "nbconvert_exporter": "python",
   "pygments_lexer": "ipython3",
   "version": "3.8.8"
  }
 },
 "nbformat": 4,
 "nbformat_minor": 5
}
